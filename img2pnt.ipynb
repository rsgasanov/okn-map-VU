{
 "cells": [
  {
   "cell_type": "code",
   "execution_count": 2,
   "id": "1c852547",
   "metadata": {},
   "outputs": [],
   "source": [
    "import os\n",
    "from PIL import Image\n",
    "import piexif"
   ]
  },
  {
   "cell_type": "code",
   "execution_count": 4,
   "id": "b2636a3d",
   "metadata": {},
   "outputs": [],
   "source": [
    "# input_dir = os.getcwd()  # текущая директория\n",
    "input_dir = os.getcwd() + '\\\\photos_new'  # текущая директория (для новых фото)\n",
    "output_dir = os.path.join(input_dir, 'compressed_photos')  # сюда будут сохранены сжатые фото\n",
    "os.makedirs(output_dir, exist_ok=True)\n",
    "\n",
    "# Допустимые форматы\n",
    "extensions = ('.jpg', '.jpeg', '.png', '.heic', '.heif')\n",
    "\n",
    "# Коэффициент сжатия (чем меньше — тем сильнее сжимает)\n",
    "QUALITY = 15  # от 1 до 95, оптимально 60–80\n",
    "\n",
    "# Проверка поддержки HEIC\n",
    "try:\n",
    "    import pillow_heif\n",
    "    pillow_heif.register_heif_opener()\n",
    "except ImportError:\n",
    "    print(\"⚠️ Для поддержки HEIC установите библиотеку: pip install pillow-heif\")"
   ]
  },
  {
   "cell_type": "markdown",
   "id": "462cb3d8",
   "metadata": {},
   "source": [
    "### Рекурсивный обход всех подпапок и сжатие изображений"
   ]
  },
  {
   "cell_type": "code",
   "execution_count": 1,
   "id": "6e932dcc",
   "metadata": {},
   "outputs": [
    {
     "ename": "NameError",
     "evalue": "name 'os' is not defined",
     "output_type": "error",
     "traceback": [
      "\u001b[1;31m---------------------------------------------------------------------------\u001b[0m",
      "\u001b[1;31mNameError\u001b[0m                                 Traceback (most recent call last)",
      "Cell \u001b[1;32mIn[1], line 1\u001b[0m\n\u001b[1;32m----> 1\u001b[0m \u001b[38;5;28;01mfor\u001b[39;00m root, dirs, files \u001b[38;5;129;01min\u001b[39;00m \u001b[43mos\u001b[49m\u001b[38;5;241m.\u001b[39mwalk(input_dir):\n\u001b[0;32m      2\u001b[0m     \u001b[38;5;28;01mfor\u001b[39;00m file \u001b[38;5;129;01min\u001b[39;00m files:\n\u001b[0;32m      3\u001b[0m         \u001b[38;5;28;01mif\u001b[39;00m file\u001b[38;5;241m.\u001b[39mlower()\u001b[38;5;241m.\u001b[39mendswith(extensions):\n",
      "\u001b[1;31mNameError\u001b[0m: name 'os' is not defined"
     ]
    }
   ],
   "source": [
    "for root, dirs, files in os.walk(input_dir):\n",
    "    for file in files:\n",
    "        if file.lower().endswith(extensions):\n",
    "            src_path = os.path.join(root, file)\n",
    "\n",
    "            # формируем путь назначения (внутри compressed_photos, с сохранением структуры подпапок)\n",
    "            rel_path = os.path.relpath(src_path, input_dir)\n",
    "            dst_path = os.path.join(output_dir, rel_path)\n",
    "            img_name = dst_path.split('\\\\')[-1]\n",
    "\n",
    "            # создаём промежуточные папки, если их нет\n",
    "            dst_dir = os.path.dirname(dst_path)\n",
    "            os.makedirs(dst_dir, exist_ok=True)\n",
    "\n",
    "            try:\n",
    "                # открываем и конвертируем\n",
    "                img = Image.open(src_path)\n",
    "                \n",
    "                # пробуем извлечь EXIF (если есть)\n",
    "                exif = img.info.get('exif')\n",
    "                \n",
    "                img = img.convert('RGB')\n",
    "\n",
    "                # сохраняем как JPEG\n",
    "                dst_jpg = os.path.splitext(dst_path)[0] + '_comp_flt.jpg'\n",
    "                if exif:\n",
    "                    img.save(dst_jpg, 'JPEG', quality=QUALITY, optimize=True, exif=exif)\n",
    "                else:\n",
    "                    img.save(dst_jpg, 'JPEG', quality=QUALITY, optimize=True)\n",
    "                    print('У фото ', img_name, ' не сохранены метаданные')\n",
    "\n",
    "                print(f\"✅ Сжато: {src_path} → {dst_jpg}\")\n",
    "\n",
    "            except Exception as e:\n",
    "                print(f\"❌ Ошибка при обработке {src_path}: {e}\")\n"
   ]
  },
  {
   "cell_type": "markdown",
   "id": "0ca7463a",
   "metadata": {},
   "source": [
    "### Создание geojson с точками фото"
   ]
  },
  {
   "cell_type": "code",
   "execution_count": 3,
   "id": "3c4b7f1e",
   "metadata": {},
   "outputs": [
    {
     "name": "stdout",
     "output_type": "stream",
     "text": [
      "d:\\RUSLAN\\WORK\\DOM_RF\\Veliky_Ustyug\\okn\\webmap\\git-repo\\okn-map-VU\n",
      "✅ compressed_photos/IMG_0408_comp_flt.jpg — 60.753833, 46.314736\n",
      "✅ compressed_photos/IMG_0442_comp_flt.jpg — 60.749108, 46.320697\n",
      "✅ compressed_photos/IMG_0446_comp_flt.jpg — 60.748317, 46.322522\n",
      "✅ compressed_photos/IMG_3800_comp_flt.jpg — 60.768081, 46.290292\n",
      "✅ compressed_photos/IMG_3931_comp_flt.jpg — 60.768964, 46.314092\n",
      "❌ Ошибка d:\\RUSLAN\\WORK\\DOM_RF\\Veliky_Ustyug\\okn\\webmap\\git-repo\\okn-map-VU\\compressed_photos\\IMG_3969_comp_flt.jpg: 'Latitude'\n",
      "✅ compressed_photos/IMG_6181_comp_flt.jpg — 60.749919, 46.319089\n",
      "✅ compressed_photos/IMG_8271_comp_flt.jpg — 60.758008, 46.310203\n",
      "✅ compressed_photos/IMG_8312_comp_flt.jpg — 60.759364, 46.307397\n",
      "✅ compressed_photos/IMG_8434_comp_flt.jpg — 60.755786, 46.310347\n",
      "✅ compressed_photos/IMG_8634_comp_flt.jpg — 60.764075, 46.297497\n",
      "✅ compressed_photos/IMG_8799_comp_flt.jpg — 60.764181, 46.301658\n",
      "✅ compressed_photos/IMG_9460_comp_flt.jpg — 60.761033, 46.299319\n",
      "\n",
      "📍 Найдено 12 фото с геотегами\n",
      "💾 GeoJSON сохранён в d:\\RUSLAN\\WORK\\DOM_RF\\Veliky_Ustyug\\okn\\webmap\\git-repo\\okn-map-VU\\photos.geojson\n"
     ]
    }
   ],
   "source": [
    "import os\n",
    "import json\n",
    "from PIL import Image, ExifTags\n",
    "from GPSPhoto import gpsphoto\n",
    "\n",
    "# === Настройки ===\n",
    "# os.chdir(r\"D:\\RUSLAN\\WORK\\DOM_RF\\Veliky_Ustyug\\okn\\webmap\\git-repo\\okn-map-VU\\compressed_photos\")\n",
    "os.chdir(r\"D:\\RUSLAN\\WORK\\DOM_RF\\Veliky_Ustyug\\okn\\webmap\\git-repo\\okn-map-VU\")\n",
    "input_dir = os.getcwd()  # Рабочая директория\n",
    "print(input_dir)\n",
    "output_geojson = os.path.join(input_dir, \"photos.geojson\")\n",
    "\n",
    "extensions = ('.jpg')\n",
    "\n",
    "def get_gps_coords(img_path):\n",
    "    \"\"\"Извлекает GPS координаты из EXIF в десятичном формате.\"\"\"\n",
    "    data = gpsphoto.getGPSData(img_path)\n",
    "    lat = data['Latitude']\n",
    "    lon = data['Longitude']\n",
    "    if not lat:\n",
    "        return None\n",
    "\n",
    "    # def to_decimal(val):\n",
    "    #     # Если уже float, просто возвращаем\n",
    "    #     if isinstance(val[0], float):\n",
    "    #         d, m, s = val\n",
    "    #         return d + m / 60 + s / 3600\n",
    "    #     # Иначе предположим, что кортеж ((num,den),...)\n",
    "    #     d = val[0][0] / val[0][1]\n",
    "    #     m = val[1][0] / val[1][1]\n",
    "    #     s = val[2][0] / val[2][1]\n",
    "    #     return d + m / 60 + s / 3600\n",
    "\n",
    "    # try:\n",
    "    #     lat = to_decimal(gps_info[\"GPSLatitude\"])\n",
    "    #     lon = to_decimal(gps_info[\"GPSLongitude\"])\n",
    "\n",
    "    #     if gps_info.get(\"GPSLatitudeRef\") == \"S\":\n",
    "    #         lat = -lat\n",
    "    #     if gps_info.get(\"GPSLongitudeRef\") == \"W\":\n",
    "    #         lon = -lon\n",
    "\n",
    "    return lat, lon\n",
    "    # except KeyError:\n",
    "        # return None\n",
    "\n",
    "\n",
    "# --- Основная логика ---\n",
    "features = []\n",
    "\n",
    "for root, _, files in os.walk(input_dir):\n",
    "    for file in files:\n",
    "        if file.lower().endswith(extensions):\n",
    "            file_path = os.path.join(root, file)\n",
    "            rel_path = os.path.relpath(file_path, input_dir).replace(\"\\\\\", \"/\")\n",
    "\n",
    "            try:\n",
    "                coords = get_gps_coords(file_path)\n",
    "\n",
    "                if coords:\n",
    "                    lat, lon = coords\n",
    "                    features.append({\n",
    "                        \"type\": \"Feature\",\n",
    "                        \"geometry\": {\"type\": \"Point\", \"coordinates\": [lon, lat]},\n",
    "                        \"properties\": {\"photo\": rel_path}\n",
    "                    })\n",
    "                    print(f\"✅ {rel_path} — {lat:.6f}, {lon:.6f}\")\n",
    "                else:\n",
    "                    print(f\"⚠️ Нет геотега: {rel_path}\")\n",
    "\n",
    "            except Exception as e:\n",
    "                print(f\"❌ Ошибка {file_path}: {e}\")\n",
    "\n",
    "# --- Сохранение результата ---\n",
    "geojson = {\"type\": \"FeatureCollection\", \"features\": features}\n",
    "\n",
    "with open(output_geojson, \"w\", encoding=\"utf-8\") as f:\n",
    "    json.dump(geojson, f, ensure_ascii=False, indent=2)\n",
    "\n",
    "print(f\"\\n📍 Найдено {len(features)} фото с геотегами\")\n",
    "print(f\"💾 GeoJSON сохранён в {output_geojson}\")"
   ]
  }
 ],
 "metadata": {
  "kernelspec": {
   "display_name": "geo_env",
   "language": "python",
   "name": "geo_env"
  },
  "language_info": {
   "codemirror_mode": {
    "name": "ipython",
    "version": 3
   },
   "file_extension": ".py",
   "mimetype": "text/x-python",
   "name": "python",
   "nbconvert_exporter": "python",
   "pygments_lexer": "ipython3",
   "version": "3.10.16"
  }
 },
 "nbformat": 4,
 "nbformat_minor": 5
}
